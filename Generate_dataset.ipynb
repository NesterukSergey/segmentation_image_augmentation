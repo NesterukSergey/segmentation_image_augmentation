{
 "cells": [
  {
   "cell_type": "code",
   "execution_count": 1,
   "metadata": {},
   "outputs": [],
   "source": [
    "from utils import *\n",
    "from datagen.SavingDataGen import SavingDataGen"
   ]
  },
  {
   "cell_type": "code",
   "execution_count": 2,
   "metadata": {},
   "outputs": [],
   "source": [
    "input_path = './data/input/'\n",
    "output_path = './data/output/'\n",
    "background_path = get_images_list('./data/background/')"
   ]
  },
  {
   "cell_type": "markdown",
   "metadata": {},
   "source": [
    "## Create Data Generatoe"
   ]
  },
  {
   "cell_type": "code",
   "execution_count": 3,
   "metadata": {},
   "outputs": [],
   "source": [
    "datagen = SavingDataGen(input_path, 'multi-part', output_path=output_path,\n",
    "                        split_masks=True, separable_class=False,\n",
    "                  augmentor_params={\n",
    "                    'output_type_list': ['multi-object', 'multi-part', 'class'],\n",
    "                    'overlap_ratio': 0.2,\n",
    "                    'persp_trans': 0,\n",
    "                    'max_rotate_degree': 90,\n",
    "                    'flip_prob': 0.5,\n",
    "                    'background': 'img',\n",
    "                    'background_image_list': background_path,\n",
    "                    'salt': 0.01,\n",
    "                    'pepper': 0.01,\n",
    "                    'gauss_var': 0,\n",
    "                    'smooth_kernel_size': 5,\n",
    "                    'bboxes': True,\n",
    "                    'num_classes': 10,\n",
    "                    'adjust_mask': True,\n",
    "                    'pad_mask': 10\n",
    "                })"
   ]
  },
  {
   "cell_type": "markdown",
   "metadata": {},
   "source": [
    "## Generate some samples to local folder (single for all classes, separate for every mask type)"
   ]
  },
  {
   "cell_type": "code",
   "execution_count": 3,
   "metadata": {},
   "outputs": [],
   "source": [
    "n = 100"
   ]
  },
  {
   "cell_type": "code",
   "execution_count": 5,
   "metadata": {},
   "outputs": [
    {
     "name": "stdout",
     "output_type": "stream",
     "text": [
      "18min 3s ± 0 ns per loop (mean ± std. dev. of 1 run, 1 loop each)\n"
     ]
    }
   ],
   "source": [
    "result = %timeit -n1 -r1 -o datagen.create_dataset(num_samples=n, scene_samples=8)"
   ]
  },
  {
   "cell_type": "code",
   "execution_count": 6,
   "metadata": {},
   "outputs": [
    {
     "data": {
      "text/plain": [
       "10.837577566679684"
      ]
     },
     "execution_count": 6,
     "metadata": {},
     "output_type": "execute_result"
    }
   ],
   "source": [
    "result.average / n"
   ]
  },
  {
   "cell_type": "code",
   "execution_count": null,
   "metadata": {},
   "outputs": [],
   "source": []
  },
  {
   "cell_type": "code",
   "execution_count": 7,
   "metadata": {},
   "outputs": [],
   "source": [
    "# !rm -rf './data/output/'"
   ]
  },
  {
   "cell_type": "markdown",
   "metadata": {},
   "source": [
    "## Generate some samples to local folder (separate for every class, separate for every mask type)"
   ]
  },
  {
   "cell_type": "code",
   "execution_count": 4,
   "metadata": {},
   "outputs": [],
   "source": [
    "datagen = SavingDataGen(input_path, 'multi-part', output_path=output_path,\n",
    "                        split_masks=True, separable_class=True,\n",
    "                  augmentor_params={\n",
    "                    'output_type_list': ['multi-object', 'multi-part'],\n",
    "                    'overlap_ratio': 0.2,\n",
    "                    'persp_trans': 0,\n",
    "                    'max_rotate_degree': 90,\n",
    "                    'flip_prob': 0.5,\n",
    "                    'background': 'img',\n",
    "                    'background_image_list': background_path,\n",
    "                    'salt': 0.01,\n",
    "                    'pepper': 0.01,\n",
    "                    'gauss_var': 1e-5,\n",
    "                    'smooth_kernel_size': 7,\n",
    "                    'bboxes': True,\n",
    "                    'num_classes': 2,\n",
    "                    'adjust_mask': True,\n",
    "                    'pad_mask': 10\n",
    "                })"
   ]
  },
  {
   "cell_type": "code",
   "execution_count": 5,
   "metadata": {},
   "outputs": [
    {
     "name": "stdout",
     "output_type": "stream",
     "text": [
      "13min 42s ± 0 ns per loop (mean ± std. dev. of 1 run, 1 loop each)\n"
     ]
    }
   ],
   "source": [
    "result = %timeit -n1 -r1 -o datagen.create_dataset(num_samples=n, scene_samples=8)"
   ]
  },
  {
   "cell_type": "code",
   "execution_count": 6,
   "metadata": {},
   "outputs": [
    {
     "data": {
      "text/plain": [
       "8.224413232069928"
      ]
     },
     "execution_count": 6,
     "metadata": {},
     "output_type": "execute_result"
    }
   ],
   "source": [
    "result.average / n"
   ]
  },
  {
   "cell_type": "code",
   "execution_count": null,
   "metadata": {},
   "outputs": [],
   "source": []
  }
 ],
 "metadata": {
  "kernelspec": {
   "display_name": "Python 3",
   "language": "python",
   "name": "python3"
  },
  "language_info": {
   "codemirror_mode": {
    "name": "ipython",
    "version": 3
   },
   "file_extension": ".py",
   "mimetype": "text/x-python",
   "name": "python",
   "nbconvert_exporter": "python",
   "pygments_lexer": "ipython3",
   "version": "3.7.4"
  }
 },
 "nbformat": 4,
 "nbformat_minor": 4
}
